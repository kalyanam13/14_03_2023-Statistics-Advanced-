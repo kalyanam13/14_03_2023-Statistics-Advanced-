{
 "cells": [
  {
   "cell_type": "markdown",
   "id": "f2544d8f",
   "metadata": {},
   "source": [
    "# PW SKILLS"
   ]
  },
  {
   "cell_type": "markdown",
   "id": "5171fe3f",
   "metadata": {},
   "source": [
    "## Assignment Questions "
   ]
  },
  {
   "cell_type": "markdown",
   "id": "32da4019",
   "metadata": {},
   "source": [
    "### Q1. Write a Python function that takes in two arrays of data and calculates the F-value for a variance ratio test. The function should return the F-value and the corresponding p-value for the test.\n",
    "### Answer : Certainly! You can use the scipy.stats module to perform the variance ratio test. Here's a simple Python function that takes two arrays of data and calculates the F-value and corresponding p-value for the variance ratio test:"
   ]
  },
  {
   "cell_type": "code",
   "execution_count": 1,
   "id": "8a81fcc3",
   "metadata": {},
   "outputs": [
    {
     "name": "stdout",
     "output_type": "stream",
     "text": [
      "F-value: 3.6\n",
      "P-value: 0.0943497728424377\n"
     ]
    }
   ],
   "source": [
    "import numpy as np\n",
    "from scipy.stats import f_oneway\n",
    "\n",
    "def variance_ratio_test(data1, data2):\n",
    "    \"\"\"\n",
    "    Perform variance ratio test on two arrays of data.\n",
    "\n",
    "    Parameters:\n",
    "    - data1: First array of data\n",
    "    - data2: Second array of data\n",
    "\n",
    "    Returns:\n",
    "    - f_value: F-value for the variance ratio test\n",
    "    - p_value: Corresponding p-value\n",
    "    \"\"\"\n",
    "\n",
    "    # Ensure that the input data are arrays\n",
    "    data1 = np.asarray(data1)\n",
    "    data2 = np.asarray(data2)\n",
    "\n",
    "    # Perform variance ratio test using scipy.stats.f_oneway\n",
    "    f_value, p_value = f_oneway(data1, data2)\n",
    "\n",
    "    return f_value, p_value\n",
    "\n",
    "# Example usage:\n",
    "data1 = [1, 2, 3, 4, 5]\n",
    "data2 = [2, 4, 6, 8, 10]\n",
    "\n",
    "f_value, p_value = variance_ratio_test(data1, data2)\n",
    "print(\"F-value:\", f_value)\n",
    "print(\"P-value:\", p_value)\n"
   ]
  },
  {
   "cell_type": "markdown",
   "id": "4e5839b6",
   "metadata": {},
   "source": [
    "### This function uses scipy.stats.f_oneway to perform a one-way ANOVA, which is equivalent to a variance ratio test when there are two groups. The F-value and p-value are then returned by the function."
   ]
  },
  {
   "cell_type": "markdown",
   "id": "b4f28aaa",
   "metadata": {},
   "source": [
    "### Q2. Given a significance level of 0.05 and the degrees of freedom for the numerator and denominator of an F-distribution, write a Python function that returns the critical F-value for a two-tailed test.\n",
    "### Answer : Certainly! The critical F-value for a two-tailed test with a given significance level and degrees of freedom for the numerator and denominator can be obtained using the scipy.stats module. Here's a Python function that does that:"
   ]
  },
  {
   "cell_type": "code",
   "execution_count": 2,
   "id": "ec21866f",
   "metadata": {},
   "outputs": [
    {
     "name": "stdout",
     "output_type": "stream",
     "text": [
      "Critical F-value: 3.8586986662732143\n"
     ]
    }
   ],
   "source": [
    "from scipy.stats import f\n",
    "\n",
    "def critical_f_value(significance_level, df_num, df_denom):\n",
    "    \"\"\"\n",
    "    Calculate the critical F-value for a two-tailed test.\n",
    "\n",
    "    Parameters:\n",
    "    - significance_level: Significance level (e.g., 0.05)\n",
    "    - df_num: Degrees of freedom for the numerator\n",
    "    - df_denom: Degrees of freedom for the denominator\n",
    "\n",
    "    Returns:\n",
    "    - critical_f: Critical F-value\n",
    "    \"\"\"\n",
    "\n",
    "    alpha = significance_level / 2  # Two-tailed test, so divide significance level by 2\n",
    "\n",
    "    # Calculate the critical F-value using scipy.stats.f.ppf\n",
    "    critical_f = f.ppf(1 - alpha, df_num, df_denom)\n",
    "\n",
    "    return critical_f\n",
    "\n",
    "# Example usage:\n",
    "significance_level = 0.05\n",
    "df_num = 3\n",
    "df_denom = 20\n",
    "\n",
    "critical_f = critical_f_value(significance_level, df_num, df_denom)\n",
    "print(\"Critical F-value:\", critical_f)\n"
   ]
  },
  {
   "cell_type": "markdown",
   "id": "2536e78b",
   "metadata": {},
   "source": [
    "This function uses scipy.stats.f.ppf to calculate the critical F-value based on the given significance level, degrees of freedom for the numerator (df_num), and degrees of freedom for the denominator (df_denom). The result is the critical F-value for a two-tailed test."
   ]
  },
  {
   "cell_type": "markdown",
   "id": "6c396668",
   "metadata": {},
   "source": [
    "### Q3. Write a Python program that generates random samples from two normal distributions with known variances and uses an F-test to determine if the variances are equal. The program should output the F\u0002value, degrees of freedom, and p-value for the test.\n",
    "### Answer : Certainly! Here's a Python program that generates random samples from two normal distributions with known variances and performs an F-test to determine if the variances are equal:"
   ]
  },
  {
   "cell_type": "code",
   "execution_count": 3,
   "id": "4d24c9bd",
   "metadata": {},
   "outputs": [
    {
     "name": "stdout",
     "output_type": "stream",
     "text": [
      "F-value: 2.4081636671276785\n",
      "Degrees of freedom between groups: 1\n",
      "Degrees of freedom within groups: 58\n",
      "P-value: 0.2522877635580332\n"
     ]
    }
   ],
   "source": [
    "import numpy as np\n",
    "from scipy.stats import f\n",
    "\n",
    "def f_test_for_equal_variances(sample1, sample2):\n",
    "    \"\"\"\n",
    "    Perform F-test for equal variances on two samples.\n",
    "\n",
    "    Parameters:\n",
    "    - sample1: First sample\n",
    "    - sample2: Second sample\n",
    "\n",
    "    Returns:\n",
    "    - f_value: F-value for the F-test\n",
    "    - df_between: Degrees of freedom between groups\n",
    "    - df_within: Degrees of freedom within groups\n",
    "    - p_value: Corresponding p-value\n",
    "    \"\"\"\n",
    "\n",
    "    # Calculate sample variances\n",
    "    var1 = np.var(sample1, ddof=1)\n",
    "    var2 = np.var(sample2, ddof=1)\n",
    "\n",
    "    # Degrees of freedom\n",
    "    n1 = len(sample1)\n",
    "    n2 = len(sample2)\n",
    "    df_between = 1\n",
    "    df_within = n1 + n2 - 2\n",
    "\n",
    "    # F-test\n",
    "    f_value = var1 / var2 if var1 >= var2 else var2 / var1\n",
    "    p_value = 2 * min(f.cdf(f_value, df_between, df_within), 1 - f.cdf(f_value, df_between, df_within))\n",
    "\n",
    "    return f_value, df_between, df_within, p_value\n",
    "\n",
    "# Example usage:\n",
    "np.random.seed(42)  # Set seed for reproducibility\n",
    "\n",
    "# Generate random samples from two normal distributions\n",
    "sample1 = np.random.normal(loc=0, scale=1, size=30)\n",
    "sample2 = np.random.normal(loc=0, scale=1.5, size=30)\n",
    "\n",
    "# Perform F-test for equal variances\n",
    "f_value, df_between, df_within, p_value = f_test_for_equal_variances(sample1, sample2)\n",
    "\n",
    "# Output results\n",
    "print(\"F-value:\", f_value)\n",
    "print(\"Degrees of freedom between groups:\", df_between)\n",
    "print(\"Degrees of freedom within groups:\", df_within)\n",
    "print(\"P-value:\", p_value)\n"
   ]
  },
  {
   "cell_type": "markdown",
   "id": "95f12c48",
   "metadata": {},
   "source": [
    "This program generates random samples from two normal distributions using NumPy and then performs an F-test for equal variances using the f_test_for_equal_variances function. The results, including the F-value, degrees of freedom between and within groups, and the p-value, are then printed."
   ]
  },
  {
   "cell_type": "markdown",
   "id": "e271b1dc",
   "metadata": {},
   "source": [
    "### Q4.The variances of two populations are known to be 10 and 15. A sample of 12 observations is taken from each population. Conduct an F-test at the 5% significance level to determine if the variances are significantly different.\n",
    "### Answer : Certainly! In this case, you can conduct an F-test for the equality of variances using the provided information. Here's a Python script that performs the F-test and prints the results:"
   ]
  },
  {
   "cell_type": "code",
   "execution_count": 4,
   "id": "8b5616b8",
   "metadata": {},
   "outputs": [
    {
     "name": "stdout",
     "output_type": "stream",
     "text": [
      "F-value: 1.5\n",
      "Degrees of freedom between groups: 1\n",
      "Degrees of freedom within groups: 22\n",
      "P-value: 0.46724804798391895\n",
      "Fail to reject the null hypothesis. Variances are not significantly different.\n"
     ]
    }
   ],
   "source": [
    "from scipy.stats import f\n",
    "\n",
    "def f_test_for_equal_variances(variance1, variance2, sample_size1, sample_size2):\n",
    "    \"\"\"\n",
    "    Perform F-test for equal variances.\n",
    "\n",
    "    Parameters:\n",
    "    - variance1: Variance of the first population\n",
    "    - variance2: Variance of the second population\n",
    "    - sample_size1: Sample size of the first population\n",
    "    - sample_size2: Sample size of the second population\n",
    "\n",
    "    Returns:\n",
    "    - f_value: F-value for the F-test\n",
    "    - df_between: Degrees of freedom between groups\n",
    "    - df_within: Degrees of freedom within groups\n",
    "    - p_value: Corresponding p-value\n",
    "    \"\"\"\n",
    "\n",
    "    # Degrees of freedom\n",
    "    df_between = 1\n",
    "    df_within = sample_size1 + sample_size2 - 2\n",
    "\n",
    "    # F-test\n",
    "    f_value = variance1 / variance2 if variance1 >= variance2 else variance2 / variance1\n",
    "    p_value = 2 * min(f.cdf(f_value, df_between, df_within), 1 - f.cdf(f_value, df_between, df_within))\n",
    "\n",
    "    return f_value, df_between, df_within, p_value\n",
    "\n",
    "# Given data\n",
    "variance1 = 10\n",
    "variance2 = 15\n",
    "sample_size1 = 12\n",
    "sample_size2 = 12\n",
    "significance_level = 0.05\n",
    "\n",
    "# Perform F-test for equal variances\n",
    "f_value, df_between, df_within, p_value = f_test_for_equal_variances(variance1, variance2, sample_size1, sample_size2)\n",
    "\n",
    "# Output results\n",
    "print(\"F-value:\", f_value)\n",
    "print(\"Degrees of freedom between groups:\", df_between)\n",
    "print(\"Degrees of freedom within groups:\", df_within)\n",
    "print(\"P-value:\", p_value)\n",
    "\n",
    "# Check if the null hypothesis is rejected based on the significance level\n",
    "if p_value < significance_level:\n",
    "    print(\"Reject the null hypothesis. Variances are significantly different.\")\n",
    "else:\n",
    "    print(\"Fail to reject the null hypothesis. Variances are not significantly different.\")\n"
   ]
  },
  {
   "cell_type": "markdown",
   "id": "0181b3c2",
   "metadata": {},
   "source": [
    "This script uses the provided variances and sample sizes to perform an F-test for equal variances. The results, including the F-value, degrees of freedom, p-value, and the decision based on the significance level, are then printed."
   ]
  },
  {
   "cell_type": "markdown",
   "id": "c10ed61e",
   "metadata": {},
   "source": [
    "### Q5. A manufacturer claims that the variance of the diameter of a certain product is 0.005. A sample of 25 products is taken, and the sample variance is found to be 0.006. Conduct an F-test at the 1% significance level to determine if the claim is justified.\n",
    "### Answer : In this scenario, you want to test whether the sample variance is significantly different from the claimed population variance. You can use an F-test for the equality of variances. Here's a Python script to perform the F-test and make a decision based on the 1% significance level:"
   ]
  },
  {
   "cell_type": "code",
   "execution_count": 5,
   "id": "c46346a9",
   "metadata": {},
   "outputs": [
    {
     "name": "stdout",
     "output_type": "stream",
     "text": [
      "F-value: 1.2\n",
      "Degrees of freedom between groups: 1\n",
      "Degrees of freedom within groups: 24\n",
      "P-value: 0.5683866337677688\n",
      "Fail to reject the null hypothesis. The claimed variance is justified.\n"
     ]
    }
   ],
   "source": [
    "from scipy.stats import f\n",
    "\n",
    "def f_test_for_population_variance(claimed_variance, sample_variance, sample_size, significance_level):\n",
    "    \"\"\"\n",
    "    Perform F-test for population variance.\n",
    "\n",
    "    Parameters:\n",
    "    - claimed_variance: Claimed population variance\n",
    "    - sample_variance: Sample variance\n",
    "    - sample_size: Sample size\n",
    "    - significance_level: Significance level for the test\n",
    "\n",
    "    Returns:\n",
    "    - f_value: F-value for the F-test\n",
    "    - df_between: Degrees of freedom between groups\n",
    "    - df_within: Degrees of freedom within groups\n",
    "    - p_value: Corresponding p-value\n",
    "    \"\"\"\n",
    "\n",
    "    # Degrees of freedom\n",
    "    df_between = 1\n",
    "    df_within = sample_size - 1\n",
    "\n",
    "    # F-test\n",
    "    f_value = sample_variance / claimed_variance\n",
    "    p_value = 2 * min(f.cdf(f_value, df_between, df_within), 1 - f.cdf(f_value, df_between, df_within))\n",
    "\n",
    "    return f_value, df_between, df_within, p_value\n",
    "\n",
    "# Given data\n",
    "claimed_variance = 0.005\n",
    "sample_variance = 0.006\n",
    "sample_size = 25\n",
    "significance_level = 0.01  # 1% significance level\n",
    "\n",
    "# Perform F-test for population variance\n",
    "f_value, df_between, df_within, p_value = f_test_for_population_variance(claimed_variance, sample_variance, sample_size, significance_level)\n",
    "\n",
    "# Output results\n",
    "print(\"F-value:\", f_value)\n",
    "print(\"Degrees of freedom between groups:\", df_between)\n",
    "print(\"Degrees of freedom within groups:\", df_within)\n",
    "print(\"P-value:\", p_value)\n",
    "\n",
    "# Check if the null hypothesis is rejected based on the significance level\n",
    "if p_value < significance_level:\n",
    "    print(\"Reject the null hypothesis. The claimed variance is not justified.\")\n",
    "else:\n",
    "    print(\"Fail to reject the null hypothesis. The claimed variance is justified.\")\n"
   ]
  },
  {
   "cell_type": "markdown",
   "id": "82716d1c",
   "metadata": {},
   "source": [
    "This script uses the claimed population variance, sample variance, and sample size to perform an F-test for the population variance. The results, including the F-value, degrees of freedom, p-value, and the decision based on the 1% significance level, are then printed."
   ]
  },
  {
   "cell_type": "markdown",
   "id": "787bc324",
   "metadata": {},
   "source": [
    "### Q6. Write a Python function that takes in the degrees of freedom for the numerator and denominator of an F-distribution and calculates the mean and variance of the distribution. The function should return the mean and variance as a tuple.\n",
    "### Answer : "
   ]
  },
  {
   "cell_type": "markdown",
   "id": "0efd09e5",
   "metadata": {},
   "source": [
    "Certainly! You can use the formulas for the mean and variance of an F-distribution to create the Python function. The mean (\n",
    "�\n",
    "μ) and variance (\n",
    "�\n",
    "2\n",
    "σ \n",
    "2\n",
    " ) of an F-distribution with degrees of freedom \n",
    "�\n",
    "�\n",
    "1\n",
    "df \n",
    "1\n",
    "​\n",
    "  (numerator) and \n",
    "�\n",
    "�\n",
    "2\n",
    "df \n",
    "2\n",
    "​\n",
    "  (denominator) are given by:\n",
    "\n",
    "�\n",
    "=\n",
    "�\n",
    "�\n",
    "2\n",
    "�\n",
    "�\n",
    "2\n",
    "−\n",
    "2\n",
    "μ= \n",
    "df \n",
    "2\n",
    "​\n",
    " −2\n",
    "df \n",
    "2\n",
    "​\n",
    " \n",
    "​\n",
    " \n",
    "�\n",
    "2\n",
    "=\n",
    "2\n",
    "⋅\n",
    "(\n",
    "�\n",
    "�\n",
    "2\n",
    "2\n",
    "⋅\n",
    "(\n",
    "�\n",
    "�\n",
    "1\n",
    "+\n",
    "�\n",
    "�\n",
    "2\n",
    "−\n",
    "2\n",
    ")\n",
    ")\n",
    "�\n",
    "�\n",
    "1\n",
    "⋅\n",
    "(\n",
    "�\n",
    "�\n",
    "2\n",
    "−\n",
    "2\n",
    ")\n",
    "2\n",
    "⋅\n",
    "(\n",
    "�\n",
    "�\n",
    "2\n",
    "−\n",
    "4\n",
    ")\n",
    "σ \n",
    "2\n",
    " = \n",
    "df \n",
    "1\n",
    "​\n",
    " ⋅(df \n",
    "2\n",
    "​\n",
    " −2) \n",
    "2\n",
    " ⋅(df \n",
    "2\n",
    "​\n",
    " −4)\n",
    "2⋅(df \n",
    "2\n",
    "2\n",
    "​\n",
    " ⋅(df \n",
    "1\n",
    "​\n",
    " +df \n",
    "2\n",
    "​\n",
    " −2))\n",
    "​\n",
    " \n",
    "\n",
    "Here's the Python function:"
   ]
  },
  {
   "cell_type": "code",
   "execution_count": 6,
   "id": "f31fc7ad",
   "metadata": {},
   "outputs": [
    {
     "name": "stdout",
     "output_type": "stream",
     "text": [
      "Mean of the F-distribution: 1.1111111111111112\n",
      "Variance of the F-distribution: 1.0802469135802468\n"
     ]
    }
   ],
   "source": [
    "def calculate_f_distribution_mean_and_variance(df_num, df_denom):\n",
    "    \"\"\"\n",
    "    Calculate the mean and variance of an F-distribution.\n",
    "\n",
    "    Parameters:\n",
    "    - df_num: Degrees of freedom for the numerator\n",
    "    - df_denom: Degrees of freedom for the denominator\n",
    "\n",
    "    Returns:\n",
    "    - mean: Mean of the F-distribution\n",
    "    - variance: Variance of the F-distribution\n",
    "    \"\"\"\n",
    "\n",
    "    # Calculate mean\n",
    "    mean = df_denom / (df_denom - 2)\n",
    "\n",
    "    # Calculate variance\n",
    "    variance = (2 * df_denom ** 2 * (df_num + df_denom - 2)) / (df_num * (df_denom - 2) ** 2 * (df_denom - 4))\n",
    "\n",
    "    return mean, variance\n",
    "\n",
    "# Example usage:\n",
    "df_num = 3\n",
    "df_denom = 20\n",
    "\n",
    "mean, variance = calculate_f_distribution_mean_and_variance(df_num, df_denom)\n",
    "print(\"Mean of the F-distribution:\", mean)\n",
    "print(\"Variance of the F-distribution:\", variance)\n"
   ]
  },
  {
   "cell_type": "markdown",
   "id": "05a91d9a",
   "metadata": {},
   "source": [
    "This function, calculate_f_distribution_mean_and_variance, takes the degrees of freedom for the numerator (df_num) and denominator (df_denom) as input and returns the mean and variance of the corresponding F-distribution."
   ]
  },
  {
   "cell_type": "markdown",
   "id": "72d062ba",
   "metadata": {},
   "source": [
    "### Q7. A random sample of 10 measurements is taken from a normal population with unknown variance. The sample variance is found to be 25. Another random sample of 15 measurements is taken from another normal population with unknown variance, and the sample variance is found to be 20. Conduct an F-test at the 10% significance level to determine if the variances are significantly different.\n",
    "### Answer : "
   ]
  },
  {
   "cell_type": "markdown",
   "id": "fbb00fa9",
   "metadata": {},
   "source": [
    "In this scenario, you want to test whether the variances of two populations are significantly different. You can use an F-test for the equality of variances. Here's a Python script to perform the F-test and make a decision based on the 10% significance level:"
   ]
  },
  {
   "cell_type": "code",
   "execution_count": 7,
   "id": "19852d11",
   "metadata": {},
   "outputs": [
    {
     "name": "stdout",
     "output_type": "stream",
     "text": [
      "F-value: 1.25\n",
      "Degrees of freedom between groups: 1\n",
      "Degrees of freedom within groups: 23\n",
      "P-value: 0.5501896575179035\n",
      "Fail to reject the null hypothesis. Variances are not significantly different.\n"
     ]
    }
   ],
   "source": [
    "from scipy.stats import f\n",
    "\n",
    "def f_test_for_equal_variances(sample_variance1, sample_size1, sample_variance2, sample_size2, significance_level):\n",
    "    \"\"\"\n",
    "    Perform F-test for equal variances.\n",
    "\n",
    "    Parameters:\n",
    "    - sample_variance1: Sample variance of the first population\n",
    "    - sample_size1: Sample size of the first population\n",
    "    - sample_variance2: Sample variance of the second population\n",
    "    - sample_size2: Sample size of the second population\n",
    "    - significance_level: Significance level for the test\n",
    "\n",
    "    Returns:\n",
    "    - f_value: F-value for the F-test\n",
    "    - df_between: Degrees of freedom between groups\n",
    "    - df_within: Degrees of freedom within groups\n",
    "    - p_value: Corresponding p-value\n",
    "    \"\"\"\n",
    "\n",
    "    # Degrees of freedom\n",
    "    df_between = 1\n",
    "    df_within = sample_size1 + sample_size2 - 2\n",
    "\n",
    "    # F-test\n",
    "    f_value = sample_variance1 / sample_variance2 if sample_variance1 >= sample_variance2 else sample_variance2 / sample_variance1\n",
    "    p_value = 2 * min(f.cdf(f_value, df_between, df_within), 1 - f.cdf(f_value, df_between, df_within))\n",
    "\n",
    "    return f_value, df_between, df_within, p_value\n",
    "\n",
    "# Given data\n",
    "sample_variance1 = 25\n",
    "sample_size1 = 10\n",
    "sample_variance2 = 20\n",
    "sample_size2 = 15\n",
    "significance_level = 0.10  # 10% significance level\n",
    "\n",
    "# Perform F-test for equal variances\n",
    "f_value, df_between, df_within, p_value = f_test_for_equal_variances(sample_variance1, sample_size1, sample_variance2, sample_size2, significance_level)\n",
    "\n",
    "# Output results\n",
    "print(\"F-value:\", f_value)\n",
    "print(\"Degrees of freedom between groups:\", df_between)\n",
    "print(\"Degrees of freedom within groups:\", df_within)\n",
    "print(\"P-value:\", p_value)\n",
    "\n",
    "# Check if the null hypothesis is rejected based on the significance level\n",
    "if p_value < significance_level:\n",
    "    print(\"Reject the null hypothesis. Variances are significantly different.\")\n",
    "else:\n",
    "    print(\"Fail to reject the null hypothesis. Variances are not significantly different.\")\n"
   ]
  },
  {
   "cell_type": "markdown",
   "id": "131d234f",
   "metadata": {},
   "source": [
    "This script uses the given sample variances and sample sizes to perform an F-test for equal variances. The results, including the F-value, degrees of freedom, p-value, and the decision based on the 10% significance level, are then printed."
   ]
  },
  {
   "cell_type": "markdown",
   "id": "ae2e29a9",
   "metadata": {},
   "source": [
    "### Q8. The following data represent the waiting times in minutes at two different restaurants on a Saturday night: Restaurant A: 24, 25, 28, 23, 22, 20, 27; Restaurant B: 31, 33, 35, 30, 32, 36. Conduct an F-test at the 5% significance level to determine if the variances are significantly different.\n",
    "### Answer : "
   ]
  },
  {
   "cell_type": "markdown",
   "id": "82e0b134",
   "metadata": {},
   "source": [
    "To conduct an F-test for the equality of variances, you can follow a similar approach as in the previous examples. Here's a Python script for this specific case:"
   ]
  },
  {
   "cell_type": "code",
   "execution_count": 8,
   "id": "f819f9bf",
   "metadata": {},
   "outputs": [
    {
     "name": "stdout",
     "output_type": "stream",
     "text": [
      "F-value: 1.4551907719609583\n",
      "Degrees of freedom between groups: 1\n",
      "Degrees of freedom within groups: 11\n",
      "P-value: 0.5060024144323725\n",
      "Fail to reject the null hypothesis. Variances are not significantly different.\n"
     ]
    }
   ],
   "source": [
    "from scipy.stats import f\n",
    "\n",
    "def f_test_for_equal_variances(sample1, sample2, significance_level):\n",
    "    \"\"\"\n",
    "    Perform F-test for equal variances on two samples.\n",
    "\n",
    "    Parameters:\n",
    "    - sample1: First sample\n",
    "    - sample2: Second sample\n",
    "    - significance_level: Significance level for the test\n",
    "\n",
    "    Returns:\n",
    "    - f_value: F-value for the F-test\n",
    "    - df_between: Degrees of freedom between groups\n",
    "    - df_within: Degrees of freedom within groups\n",
    "    - p_value: Corresponding p-value\n",
    "    \"\"\"\n",
    "\n",
    "    # Calculate sample variances\n",
    "    var1 = sum((x - np.mean(sample1))**2 for x in sample1) / (len(sample1) - 1)\n",
    "    var2 = sum((x - np.mean(sample2))**2 for x in sample2) / (len(sample2) - 1)\n",
    "\n",
    "    # Degrees of freedom\n",
    "    df_between = 1\n",
    "    df_within = len(sample1) + len(sample2) - 2\n",
    "\n",
    "    # F-test\n",
    "    f_value = var1 / var2 if var1 >= var2 else var2 / var1\n",
    "    p_value = 2 * min(f.cdf(f_value, df_between, df_within), 1 - f.cdf(f_value, df_between, df_within))\n",
    "\n",
    "    return f_value, df_between, df_within, p_value\n",
    "\n",
    "# Given data\n",
    "sample_A = [24, 25, 28, 23, 22, 20, 27]\n",
    "sample_B = [31, 33, 35, 30, 32, 36]\n",
    "significance_level = 0.05  # 5% significance level\n",
    "\n",
    "# Perform F-test for equal variances\n",
    "f_value, df_between, df_within, p_value = f_test_for_equal_variances(sample_A, sample_B, significance_level)\n",
    "\n",
    "# Output results\n",
    "print(\"F-value:\", f_value)\n",
    "print(\"Degrees of freedom between groups:\", df_between)\n",
    "print(\"Degrees of freedom within groups:\", df_within)\n",
    "print(\"P-value:\", p_value)\n",
    "\n",
    "# Check if the null hypothesis is rejected based on the significance level\n",
    "if p_value < significance_level:\n",
    "    print(\"Reject the null hypothesis. Variances are significantly different.\")\n",
    "else:\n",
    "    print(\"Fail to reject the null hypothesis. Variances are not significantly different.\")\n"
   ]
  },
  {
   "cell_type": "markdown",
   "id": "4185ee60",
   "metadata": {},
   "source": [
    "This script calculates the sample variances, performs the F-test for equal variances, and prints the results, including the F-value, degrees of freedom, p-value, and the decision based on the 5% significance level."
   ]
  },
  {
   "cell_type": "markdown",
   "id": "cf546fc0",
   "metadata": {},
   "source": [
    "### Q9. The following data represent the test scores of two groups of students: Group A: 80, 85, 90, 92, 87, 83; Group B: 75, 78, 82, 79, 81, 84. Conduct an F-test at the 1% significance level to determine if the variances are significantly different.Q9. The following data represent the test scores of two groups of students: Group A: 80, 85, 90, 92, 87, 83; Group B: 75, 78, 82, 79, 81, 84. Conduct an F-test at the 1% significance level to determine if the variances are significantly different.\n",
    "### Answer : To conduct an F-test for the equality of variances, you can use a similar approach as in the previous examples. Here's a Python script for this specific case:"
   ]
  },
  {
   "cell_type": "code",
   "execution_count": 9,
   "id": "c23f2628",
   "metadata": {},
   "outputs": [
    {
     "name": "stdout",
     "output_type": "stream",
     "text": [
      "F-value: 1.9442622950819677\n",
      "Degrees of freedom between groups: 1\n",
      "Degrees of freedom within groups: 10\n",
      "P-value: 0.3868180178830529\n",
      "Fail to reject the null hypothesis. Variances are not significantly different.\n"
     ]
    }
   ],
   "source": [
    "from scipy.stats import f\n",
    "\n",
    "def f_test_for_equal_variances(sample1, sample2, significance_level):\n",
    "    \"\"\"\n",
    "    Perform F-test for equal variances on two samples.\n",
    "\n",
    "    Parameters:\n",
    "    - sample1: First sample\n",
    "    - sample2: Second sample\n",
    "    - significance_level: Significance level for the test\n",
    "\n",
    "    Returns:\n",
    "    - f_value: F-value for the F-test\n",
    "    - df_between: Degrees of freedom between groups\n",
    "    - df_within: Degrees of freedom within groups\n",
    "    - p_value: Corresponding p-value\n",
    "    \"\"\"\n",
    "\n",
    "    # Calculate sample variances\n",
    "    var1 = sum((x - np.mean(sample1))**2 for x in sample1) / (len(sample1) - 1)\n",
    "    var2 = sum((x - np.mean(sample2))**2 for x in sample2) / (len(sample2) - 1)\n",
    "\n",
    "    # Degrees of freedom\n",
    "    df_between = 1\n",
    "    df_within = len(sample1) + len(sample2) - 2\n",
    "\n",
    "    # F-test\n",
    "    f_value = var1 / var2 if var1 >= var2 else var2 / var1\n",
    "    p_value = 2 * min(f.cdf(f_value, df_between, df_within), 1 - f.cdf(f_value, df_between, df_within))\n",
    "\n",
    "    return f_value, df_between, df_within, p_value\n",
    "\n",
    "# Given data\n",
    "sample_A = [80, 85, 90, 92, 87, 83]\n",
    "sample_B = [75, 78, 82, 79, 81, 84]\n",
    "significance_level = 0.01  # 1% significance level\n",
    "\n",
    "# Perform F-test for equal variances\n",
    "f_value, df_between, df_within, p_value = f_test_for_equal_variances(sample_A, sample_B, significance_level)\n",
    "\n",
    "# Output results\n",
    "print(\"F-value:\", f_value)\n",
    "print(\"Degrees of freedom between groups:\", df_between)\n",
    "print(\"Degrees of freedom within groups:\", df_within)\n",
    "print(\"P-value:\", p_value)\n",
    "\n",
    "# Check if the null hypothesis is rejected based on the significance level\n",
    "if p_value < significance_level:\n",
    "    print(\"Reject the null hypothesis. Variances are significantly different.\")\n",
    "else:\n",
    "    print(\"Fail to reject the null hypothesis. Variances are not significantly different.\")\n"
   ]
  },
  {
   "cell_type": "markdown",
   "id": "52b4e23c",
   "metadata": {},
   "source": [
    "This script calculates the sample variances, performs the F-test for equal variances, and prints the results, including the F-value, degrees of freedom, p-value, and the decision based on the 1% significance level."
   ]
  },
  {
   "cell_type": "code",
   "execution_count": null,
   "id": "12f19e00",
   "metadata": {},
   "outputs": [],
   "source": []
  },
  {
   "cell_type": "code",
   "execution_count": null,
   "id": "ef2af7c2",
   "metadata": {},
   "outputs": [],
   "source": []
  }
 ],
 "metadata": {
  "kernelspec": {
   "display_name": "Python 3 (ipykernel)",
   "language": "python",
   "name": "python3"
  },
  "language_info": {
   "codemirror_mode": {
    "name": "ipython",
    "version": 3
   },
   "file_extension": ".py",
   "mimetype": "text/x-python",
   "name": "python",
   "nbconvert_exporter": "python",
   "pygments_lexer": "ipython3",
   "version": "3.9.13"
  }
 },
 "nbformat": 4,
 "nbformat_minor": 5
}
